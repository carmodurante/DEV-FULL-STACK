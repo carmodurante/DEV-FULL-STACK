{
  "nbformat": 4,
  "nbformat_minor": 0,
  "metadata": {
    "colab": {
      "name": "Missão Prática N2 - Dev. Full Stack.ipynb",
      "provenance": [],
      "collapsed_sections": [],
      "toc_visible": true
    },
    "kernelspec": {
      "name": "python3",
      "display_name": "Python 3"
    },
    "language_info": {
      "name": "python"
    }
  },
  "cells": [
    {
      "cell_type": "code",
      "execution_count": null,
      "metadata": {
        "colab": {
          "base_uri": "https://localhost:8080/"
        },
        "id": "Dj5fylFuDIJc",
        "outputId": "82be957b-68af-4b00-ce6a-671b5e9a0de7"
      },
      "outputs": [
        {
          "output_type": "stream",
          "name": "stdout",
          "text": [
            "Numero na base decimal:23\n",
            "Numero na base binaria:10111\n"
          ]
        }
      ],
      "source": [
        "numero_base_decimal = 23\n",
        "numero_base_binaria = \"{0:b}\".format(numero_base_decimal)\n",
        "print(f'Numero na base decimal:{numero_base_decimal}')\n",
        "print(f'Numero na base binaria:{numero_base_binaria}')"
      ]
    }
  ]
}